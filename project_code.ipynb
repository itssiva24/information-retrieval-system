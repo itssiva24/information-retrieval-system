{
  "nbformat": 4,
  "nbformat_minor": 0,
  "metadata": {
    "colab": {
      "name": "nlp_lsa.ipynb",
      "provenance": [],
      "collapsed_sections": []
    },
    "kernelspec": {
      "name": "python3",
      "display_name": "Python 3"
    },
    "language_info": {
      "name": "python"
    }
  },
  "cells": [
    {
      "cell_type": "markdown",
      "source": [
        "<h3>Load data</h3>"
      ],
      "metadata": {
        "id": "rJk2vot1n1bO"
      }
    },
    {
      "cell_type": "code",
      "source": [
        "import json\n",
        "import matplotlib.pyplot as plt\n",
        "import string\n",
        "\n",
        "from sklearn.feature_extraction.text import TfidfVectorizer"
      ],
      "metadata": {
        "id": "Gpio_HEln9yd"
      },
      "execution_count": 1,
      "outputs": []
    },
    {
      "cell_type": "code",
      "source": [
        "from google.colab import drive\n",
        "drive.mount('/content/drive', force_remount=True)"
      ],
      "metadata": {
        "colab": {
          "base_uri": "https://localhost:8080/"
        },
        "id": "KfS5vbsm6kIe",
        "outputId": "2251aa4b-8141-432e-80d8-af9a06068856"
      },
      "execution_count": 2,
      "outputs": [
        {
          "output_type": "stream",
          "name": "stdout",
          "text": [
            "Mounted at /content/drive\n"
          ]
        }
      ]
    },
    {
      "cell_type": "code",
      "source": [
        "import os\n",
        "\n",
        "os.chdir(r'/content/drive/MyDrive/NLP2022')\n",
        "!ls"
      ],
      "metadata": {
        "colab": {
          "base_uri": "https://localhost:8080/"
        },
        "id": "VlwFqBxI7Yb-",
        "outputId": "5183f1b2-31a7-47b6-817f-7da6fc5e6d60"
      },
      "execution_count": 3,
      "outputs": [
        {
          "output_type": "stream",
          "name": "stdout",
          "text": [
            "cranfield\t\t main.py\t\t  stopwordRemoval.py\n",
            "evaluateAll.py\t\t output\t\t\t  tokenization.py\n",
            "evaluation.py\t\t __pycache__\t\t  util.py\n",
            "inflectionReduction.py\t README.txt\n",
            "informationRetrieval.py  sentenceSegmentation.py\n"
          ]
        }
      ]
    },
    {
      "cell_type": "code",
      "source": [
        "from inflectionReduction import InflectionReduction\n",
        "from stopwordRemoval import StopwordRemoval\n",
        "from informationRetrieval import InformationRetrieval\n",
        "\n",
        "from sentenceSegmentation import SentenceSegmentation\n",
        "from tokenization import Tokenization\n",
        "\n",
        "from evaluateAll import Evaluation_metrics as em\n",
        "from evaluation import Evaluation\n",
        "\n"
      ],
      "metadata": {
        "id": "C3m7l0QdQxzi",
        "colab": {
          "base_uri": "https://localhost:8080/"
        },
        "outputId": "fab51e02-8a25-42d9-950a-2d8369017f44"
      },
      "execution_count": 4,
      "outputs": [
        {
          "output_type": "stream",
          "name": "stdout",
          "text": [
            "[nltk_data] Downloading package wordnet to /root/nltk_data...\n",
            "[nltk_data]   Unzipping corpora/wordnet.zip.\n"
          ]
        }
      ]
    },
    {
      "cell_type": "code",
      "execution_count": 5,
      "metadata": {
        "id": "xe1wQp69KfdA"
      },
      "outputs": [],
      "source": [
        "# query_dict = json.load(open( \"./cranfield/cran_queries.json\", 'r'))[:]\n",
        "# docs_dict = json.load(open(\"./cranfield/cran_docs.json\", 'r'))[:]\n",
        "# query_reduced = json.load(open('./output/stopword_removed_queries.txt', 'r'))\n",
        "# docs_reduced = json.load(open('./output/stopword_removed_docs.txt', 'r'))\n",
        "# qrels = json.load(open( \"./cranfield/cran_qrels.json\", 'r'))[:]\n",
        "# docIDs= [item[\"id\"] for item in docs_dict]"
      ]
    },
    {
      "cell_type": "markdown",
      "source": [
        "<h3>Load precprocessed docs and queries</h3>\n",
        "These are obained from running the preprocessing modules or just run main.py"
      ],
      "metadata": {
        "id": "2wehLsLK7swW"
      }
    },
    {
      "cell_type": "code",
      "source": [
        "# Read queries\n",
        "queries_json = json.load(open(\"./cranfield/cran_queries.json\", 'r'))[:]\n",
        "query_ids, queries = [item[\"query number\"] for item in queries_json], [item[\"query\"] for item in queries_json]\n",
        "\n",
        "# Read documents(corpus)\n",
        "docs_json = json.load(open(\"./cranfield/cran_docs.json\", 'r'))[:]\n",
        "doc_ids, docs = [item[\"id\"] for item in docs_json], [item[\"body\"] for item in docs_json]\n",
        "\n",
        "# Loading preprocessed queries\n",
        "preprocessed_queries = json.load(open('./output/stopword_removed_queries.txt', 'r'))\n",
        "\n",
        "# Loading Preprocessed docs\n",
        "preprocessed_docs = json.load(open('./output/stopword_removed_docs.txt', 'r'))\n",
        "\n",
        "qrels = json.load(open(\"./cranfield/cran_qrels.json\", 'r'))[:]"
      ],
      "metadata": {
        "id": "gyPfEDdlZwLv"
      },
      "execution_count": 6,
      "outputs": []
    },
    {
      "cell_type": "code",
      "source": [
        "import math\n",
        "import numpy as np\n",
        "import pandas as pd\n",
        "from math import log\n",
        "from math import sqrt\n",
        "from collections import Counter\n",
        "from sklearn.decomposition import TruncatedSVD\n",
        "from sklearn.preprocessing import normalize\n",
        "\n",
        "def buildIndex(docs, docIDs, queries):\n",
        "\t\t\"\"\"\n",
        "\t\tBuilds the document index in terms of the document\n",
        "\t\tIDs and stores it in the 'index' class variable\n",
        "\t\tParameters\n",
        "\t\t----------\n",
        "\t\targ1 : list\n",
        "\t\t\tA list of lists of lists where each sub-list is\n",
        "\t\t\ta document and each sub-sub-list is a sentence of the document\n",
        "\t\targ2 : list\n",
        "\t\t\tA list of integers denoting IDs of the documents\n",
        "\t\targ3 : \n",
        "\t\t\tA list of lists of lists where each sub-list is a query and\n",
        "\t\t\teach sub-sub-list is a sentence of the query\n",
        "\t\tReturns\n",
        "\t\t-------\n",
        "\t\tNone\n",
        "\t\t\"\"\"\n",
        "\n",
        "\t\tdoc_dicts={} # dict of dicts :: docID: counter of words\n",
        "\t\tallWords=set()\n",
        "\t\ttf_idfs_doc={}\n",
        "\t\tidf={}\n",
        "\n",
        "\t\tfor i,docID in enumerate(docIDs):\n",
        "\t\t\tar=[]\n",
        "\t\t\tfor sentence in docs[i]: \n",
        "\t\t\t\tar += sentence\n",
        "\t\t\tdoc_dicts[docID]=Counter(ar)\n",
        "\t\t\tallWords |= set(ar)\n",
        "\t\t\n",
        "\t\tN=len(docs)\n",
        "\t\tfor word in allWords:\n",
        "\t\t\tn=0\n",
        "\t\t\tfor docID in docIDs:\n",
        "\t\t\t\tif word in doc_dicts[docID]: n+=1\n",
        "\t\t\tidf[word]= math.log(float((N+1)/(n+1)))\n",
        "\n",
        "\t\t\n",
        "\t\tfor docID, doc_dict in doc_dicts.items():\n",
        "\t\t\ttf_idf={}\n",
        "\t\t\tif len(doc_dict)==0:\n",
        "\t\t\t\ttf_idfs_doc[docID]=tf_idf\n",
        "\t\t\t\tcontinue\n",
        "\n",
        "\t\t\tfor word in doc_dict.keys():\n",
        "\t\t\t\ttf_idf[word] = doc_dict[word]*idf[word]\n",
        "\n",
        "\t\t\ttf_idfs_doc[docID]=tf_idf\n",
        "\n",
        "\t\t\n",
        "\n",
        "\t\ttf_idfs_qry={}\n",
        "\t\tfor i,query in enumerate(queries):\n",
        "\t\t\tq_list=[]\n",
        "\t\t\tfor sentence in query:\n",
        "\t\t\t\tq_list += sentence\n",
        "\n",
        "\t\t\ttf_idf=Counter(q_list)\n",
        "\n",
        "\t\t\tfor word in tf_idf.keys():\n",
        "\t\t\t\tif word in idf: tf_idf[word] *= idf[word]\n",
        "\t\t\t\telse: tf_idf[word] = 0\n",
        "\n",
        "\t\t\ttf_idfs_qry[N+i+1]=tf_idf\n",
        "\n",
        "\t\ttfidf_combined=tf_idfs_doc.copy()\n",
        "\t\ttfidf_combined.update(tf_idfs_qry)\n",
        "\t\ttfidf_combined_df=pd.DataFrame.from_dict(tfidf_combined)\n",
        "\t\ttfidf_combined_df=tfidf_combined_df.fillna(0)\n",
        "\t\ttfidf_combined_df=tfidf_combined_df\n",
        "\t\tvec_rep=tfidf_combined_df.values\n",
        "\t\tvec_rep_docs = np.array(vec_rep[:,0:N])\n",
        "\t\tvec_rep_qry = np.array(vec_rep[:,N:])\n",
        "\t\treturn vec_rep_docs, vec_rep_qry\n"
      ],
      "metadata": {
        "id": "B1vvkC1m9Lgj"
      },
      "execution_count": 7,
      "outputs": []
    },
    {
      "cell_type": "code",
      "source": [
        "# Evaluation metrics at k\n",
        "def runEvaluation(qrels, doc_IDs_ordered, queries, k):\n",
        "\n",
        "    evaluator = Evaluation()\n",
        "\n",
        "    # Precision of each queries\n",
        "    q_precision = []\n",
        "\n",
        "    # Recall of each queries\n",
        "    q_recall = []\n",
        "\n",
        "    # Fscore of each queries\n",
        "    q_fscore = []\n",
        "\n",
        "    for i in range(len(doc_IDs_ordered)):\n",
        "        true_doc_ids = [int(qrel[\"id\"]) for qrel in qrels if int(qrel[\"query_num\"]) == int(i+1)]\n",
        "        precision = evaluator.queryPrecision(doc_IDs_ordered[i], i+1, true_doc_ids, k)\n",
        "        q_precision.append(precision)\n",
        "        recall = evaluator.queryRecall(doc_IDs_ordered[i], i+1, true_doc_ids, k)\n",
        "        q_recall.append(recall)\n",
        "        fscore = evaluator.queryFscore(doc_IDs_ordered[i], i+1, true_doc_ids, k)\n",
        "        q_fscore.append(fscore)\n",
        "\n",
        "    # ndcg for each query calculation\n",
        "    q_ndcg = []\n",
        "    for i in range(len(doc_IDs_ordered)):\n",
        "        true_doc_ndcg_ids = [int(qrel[\"id\"]) for qrel in qrels if int(qrel[\"query_num\"]) == int(i+1)]\n",
        "        true_doc_ndcg_position = [qrel[\"position\"] for qrel in qrels if int(qrel[\"query_num\"]) == int(i+1)]\n",
        "        ndcg = evaluator.queryNDCG(doc_IDs_ordered[i], i+1, [true_doc_ndcg_ids, true_doc_ndcg_position], k)\n",
        "        q_ndcg.append(ndcg)\n",
        "\n",
        "    return q_precision, q_recall, q_fscore, q_ndcg"
      ],
      "metadata": {
        "id": "SrjNKpwZlMoG"
      },
      "execution_count": 8,
      "outputs": []
    },
    {
      "cell_type": "markdown",
      "source": [
        "<h3>TF-IDF Representation</h3>"
      ],
      "metadata": {
        "id": "KgvoeFkKRobZ"
      }
    },
    {
      "cell_type": "code",
      "source": [
        "# Build document index and tf-idf\n",
        "docs_vect, qry_vect = buildIndex(preprocessed_docs, doc_ids, preprocessed_queries)"
      ],
      "metadata": {
        "id": "sCS38rgE9DnL"
      },
      "execution_count": 9,
      "outputs": []
    },
    {
      "cell_type": "markdown",
      "source": [
        "<h1>0. Vector Space Model</h1>"
      ],
      "metadata": {
        "id": "jCqDomvqQyHp"
      }
    },
    {
      "cell_type": "markdown",
      "source": [
        "<h3>Computing cosine similarity and ranking docs based on it</h3>"
      ],
      "metadata": {
        "id": "DGg3jqdKSCD5"
      }
    },
    {
      "cell_type": "code",
      "source": [
        "cosine_sim_vsm = np.matmul(docs_vect.T, qry_vect)\n",
        "doc_IDs_ordered_vsm = (np.argsort(cosine_sim_vsm,axis=0)+1)[::-1].T.tolist()"
      ],
      "metadata": {
        "id": "ng0UP65ORmlJ"
      },
      "execution_count": 10,
      "outputs": []
    },
    {
      "cell_type": "markdown",
      "source": [
        "<h3>Evaluation</h3>"
      ],
      "metadata": {
        "id": "92VCM4ySSN1i"
      }
    },
    {
      "cell_type": "code",
      "source": [
        "em(doc_IDs_ordered_vsm, query_ids, qrels, 0,\"Baseline model(M1)\", 0 ,\"./output\", 1)"
      ],
      "metadata": {
        "colab": {
          "base_uri": "https://localhost:8080/",
          "height": 697
        },
        "id": "6jTij8mqSRV_",
        "outputId": "3d2779cf-18db-4f83-b441-e20613235e5a"
      },
      "execution_count": 12,
      "outputs": [
        {
          "output_type": "stream",
          "name": "stdout",
          "text": [
            "Precision, Recall and F-score @ 1 : 0.5022222222222222, 0.08135190053229265, 0.13505608924260276\n",
            "MAP, nDCG @ 1 : 0.5022222222222222, 0.5022222222222222\n",
            "Precision, Recall and F-score @ 2 : 0.43777777777777777, 0.14135445316169837, 0.20120856185401442\n",
            "MAP, nDCG @ 2 : 0.5733333333333334, 0.5789956449192463\n",
            "Precision, Recall and F-score @ 3 : 0.3777777777777777, 0.17816118478682094, 0.22488757947638127\n",
            "MAP, nDCG @ 3 : 0.5874074074074072, 0.6045831994907338\n",
            "Precision, Recall and F-score @ 4 : 0.3377777777777778, 0.20815296897738816, 0.2383693286402648\n",
            "MAP, nDCG @ 4 : 0.5930864197530864, 0.6188173005649743\n",
            "Precision, Recall and F-score @ 5 : 0.3173333333333335, 0.24074132773965892, 0.2522073598955548\n",
            "MAP, nDCG @ 5 : 0.5816913580246914, 0.609963911904853\n",
            "Precision, Recall and F-score @ 6 : 0.29185185185185186, 0.2640825007278908, 0.2555210407149965\n",
            "MAP, nDCG @ 6 : 0.5768432098765433, 0.6097746785004264\n",
            "Precision, Recall and F-score @ 7 : 0.2800000000000001, 0.29340239869484747, 0.26447935129084593\n",
            "MAP, nDCG @ 7 : 0.5628075837742504, 0.60527420347257\n",
            "Precision, Recall and F-score @ 8 : 0.26555555555555554, 0.31386548319004826, 0.26569668595466583\n",
            "MAP, nDCG @ 8 : 0.5546516754850086, 0.601578530108347\n",
            "Precision, Recall and F-score @ 9 : 0.24938271604938278, 0.3250621159232135, 0.26065378497531577\n",
            "MAP, nDCG @ 9 : 0.5472205782312923, 0.5997026210366183\n",
            "Precision, Recall and F-score @ 10 : 0.2368888888888889, 0.3415084843695819, 0.25884197342782356\n",
            "MAP, nDCG @ 10 : 0.5426229843789365, 0.6018693543351756\n"
          ]
        },
        {
          "output_type": "display_data",
          "data": {
            "text/plain": [
              "<Figure size 720x360 with 1 Axes>"
            ],
            "image/png": "[encoded data removed]"
          },
          "metadata": {
            "needs_background": "light"
          }
        }
      ]
    },
    {
      "cell_type": "markdown",
      "source": [
        "<h2>1. LSA</h2>"
      ],
      "metadata": {
        "id": "dBqBVyyzApNw"
      }
    },
    {
      "cell_type": "code",
      "source": [
        "n_queries = 225\n",
        "MAPs=[]\n",
        "nDCGs=[]\n",
        "k=10\n",
        "comp_list = [100, 150, 250, 300, 400, 450, 500, 700]\n",
        "evaluator=Evaluation()\n",
        "query_IDs=np.arange(1,226)\n",
        "all_docs_ID_retreived=[]\n",
        "for n in comp_list:\n",
        "  lsa = TruncatedSVD(n_components=n, random_state=1024)\n",
        "  lsa.fit(docs_vect.T)\n",
        "  docs_vect_transformed=lsa.transform(docs_vect.T).T\n",
        "  qry_vect_transformed=lsa.transform(qry_vect.T).T\n",
        "  docs_vect_transformed_norm=normalize(docs_vect_transformed, norm='l2', axis=0)\n",
        "  qry_vect_transformed_norm=normalize(qry_vect_transformed, norm='l2', axis=0)\n",
        "  cos_sim_matrix = np.matmul(qry_vect_transformed_norm.T, docs_vect_transformed_norm)\n",
        "  docs_ID_retreived=[]\n",
        "  for i in range(n_queries):\n",
        "      docs_ID_retreived.append(1+np.argsort(cos_sim_matrix[i])[::-1])\n",
        "  all_docs_ID_retreived.append(docs_ID_retreived)\n",
        "  MAPs.append(evaluator.meanAveragePrecision(docs_ID_retreived, query_IDs, qrels, k))\n",
        "  nDCGs.append(evaluator.meanNDCG(docs_ID_retreived, query_IDs, qrels, k))\n",
        "\n",
        "\n",
        "fig,axes=plt.subplots(figsize=(10,5), ncols=2,dpi=100)\n",
        "ax=axes[0]\n",
        "ax.scatter(comp_list,MAPs,c='black')\n",
        "ax.plot(comp_list,MAPs,c='black',linestyle='dashed')\n",
        "ax.set_xlabel('n')\n",
        "ax.set_ylabel(\"MAP @ \"+str(k))\n",
        "ax.set_title(\"MAP @ \"+str(k)+\" vs number of components\")\n",
        "ax=axes[1]\n",
        "ax.scatter(comp_list,nDCGs,c='blue')\n",
        "ax.plot(comp_list,nDCGs,c='blue',linestyle='dashed')\n",
        "ax.set_xlabel('n')\n",
        "ax.set_ylabel(\"mean nDCG @ \"+str(k))\n",
        "ax.set_title(\"mean nDCG @ \"+str(k)+\" vs number of components\")\n",
        "plt.show()"
      ],
      "metadata": {
        "colab": {
          "base_uri": "https://localhost:8080/",
          "height": 480
        },
        "id": "DqZvhN6BAoiR",
        "outputId": "6cf307a9-1b3b-4b23-be45-9b0a604f4791"
      },
      "execution_count": 13,
      "outputs": [
        {
          "output_type": "display_data",
          "data": {
            "text/plain": [
              "<Figure size 1000x500 with 2 Axes>"
            ],
            "image/png": "[encoded data removed]"
          },
          "metadata": {
            "needs_background": "light"
          }
        }
      ]
    },
    {
      "cell_type": "markdown",
      "source": [
        "Best k rank approximation"
      ],
      "metadata": {
        "id": "AliF08fBHjii"
      }
    },
    {
      "cell_type": "code",
      "source": [
        "print(\"max MAP@10 for n_components = \", comp_list[np.argmax(MAPs)])\n",
        "print(\"max MAP@10 = \",round(MAPs[np.argmax(MAPs)],3))\n",
        "print(\"nDCG@10 = \",round(nDCGs[np.argmax(MAPs)],3))"
      ],
      "metadata": {
        "colab": {
          "base_uri": "https://localhost:8080/"
        },
        "id": "_nr42YFaHGWz",
        "outputId": "1d57c88b-1bfa-4e24-d195-ae6eb19e27bf"
      },
      "execution_count": 14,
      "outputs": [
        {
          "output_type": "stream",
          "name": "stdout",
          "text": [
            "max MAP@10 for n_components =  500\n",
            "max MAP@10 =  0.647\n",
            "nDCG@10 =  0.678\n"
          ]
        }
      ]
    },
    {
      "cell_type": "code",
      "execution_count": 15,
      "metadata": {
        "id": "1QJBL3A64dgs",
        "outputId": "65e28529-1796-4e86-e9a5-7f3f8dfa1a5f",
        "colab": {
          "base_uri": "https://localhost:8080/",
          "height": 697
        }
      },
      "outputs": [
        {
          "output_type": "stream",
          "name": "stdout",
          "text": [
            "Precision, Recall and F-score @ 1 : 0.6222222222222222, 0.10189456501148965, 0.16815823309500463\n",
            "MAP, nDCG @ 1 : 0.6222222222222222, 0.6222222222222222\n",
            "Precision, Recall and F-score @ 2 : 0.5533333333333333, 0.18238941728025393, 0.2576115259731806\n",
            "MAP, nDCG @ 2 : 0.68, 0.6661366949633258\n",
            "Precision, Recall and F-score @ 3 : 0.48444444444444457, 0.2313543807969416, 0.2917917920832457\n",
            "MAP, nDCG @ 3 : 0.6948148148148149, 0.6846876099599445\n",
            "Precision, Recall and F-score @ 4 : 0.4444444444444444, 0.2736237924932065, 0.31408157698940675\n",
            "MAP, nDCG @ 4 : 0.6895061728395061, 0.6808138643372443\n",
            "Precision, Recall and F-score @ 5 : 0.41244444444444484, 0.30875837577484866, 0.32668796367048275\n",
            "MAP, nDCG @ 5 : 0.682938271604938, 0.6832758585115324\n",
            "Precision, Recall and F-score @ 6 : 0.3785185185185186, 0.33366757854423795, 0.327369709694773\n",
            "MAP, nDCG @ 6 : 0.6746283950617282, 0.6803946750452421\n",
            "Precision, Recall and F-score @ 7 : 0.3549206349206353, 0.358425280186997, 0.3294013128875386\n",
            "MAP, nDCG @ 7 : 0.6673162257495586, 0.6809516627243593\n",
            "Precision, Recall and F-score @ 8 : 0.3277777777777778, 0.3745126807208586, 0.32253749193626857\n",
            "MAP, nDCG @ 8 : 0.6598308893927937, 0.6780809836089949\n",
            "Precision, Recall and F-score @ 9 : 0.30962962962963, 0.3958494574517529, 0.32111322129150405\n",
            "MAP, nDCG @ 9 : 0.6508060783572686, 0.6757328152400043\n",
            "Precision, Recall and F-score @ 10 : 0.29288888888888903, 0.41590425223461785, 0.31783482652453665\n",
            "MAP, nDCG @ 10 : 0.6397251336748689, 0.6742355127940715\n"
          ]
        },
        {
          "output_type": "display_data",
          "data": {
            "text/plain": [
              "<Figure size 720x360 with 1 Axes>"
            ],
            "image/png": "[encoded data removed]"
          },
          "metadata": {
            "needs_background": "light"
          }
        }
      ],
      "source": [
        "# Best k vlaue = 500 latent dimensions\n",
        "n = 500\n",
        "lsa = TruncatedSVD(n_components=n)\n",
        "lsa.fit(docs_vect.T)\n",
        "docs_vect_transformed=lsa.transform(docs_vect.T).T\n",
        "qry_vect_transformed=lsa.transform(qry_vect.T).T\n",
        "docs_vect_transformed_norm=normalize(docs_vect_transformed, norm='l2', axis=0)\n",
        "qry_vect_transformed_norm=normalize(qry_vect_transformed, norm='l2', axis=0)\n",
        "cosine_sim_lsa = np.matmul(docs_vect_transformed_norm.T, qry_vect_transformed_norm)\n",
        "doc_IDs_ordered_lsa = (np.argsort(cosine_sim_lsa,axis=0)+1)[::-1].T.tolist()\n",
        "em(doc_IDs_ordered_lsa, query_ids, qrels, n, \"LSA (500 latent variables)\", 0, \"./output/\", 1)"
      ]
    },
    {
      "cell_type": "markdown",
      "source": [
        "<h2>2. Vector space model with preprocessed docs and queries</h2>"
      ],
      "metadata": {
        "id": "GYVB_D02NmE7"
      }
    },
    {
      "cell_type": "code",
      "source": [
        "import nltk\n",
        "from nltk.corpus import stopwords\n",
        "from nltk.stem import WordNetLemmatizer\n",
        "from nltk.corpus.reader import wordnet\n",
        "nltk.download('stopwords')\n",
        "nltk.download('averaged_perceptron_tagger')\n",
        "nltk.download('wordnet')\n"
      ],
      "metadata": {
        "id": "wAuEczn_OivL",
        "colab": {
          "base_uri": "https://localhost:8080/"
        },
        "outputId": "7e1d3fca-bf65-44ee-bd41-6b2a7837e659"
      },
      "execution_count": 16,
      "outputs": [
        {
          "output_type": "stream",
          "name": "stdout",
          "text": [
            "[nltk_data] Downloading package stopwords to /root/nltk_data...\n",
            "[nltk_data]   Unzipping corpora/stopwords.zip.\n",
            "[nltk_data] Downloading package averaged_perceptron_tagger to\n",
            "[nltk_data]     /root/nltk_data...\n",
            "[nltk_data]   Unzipping taggers/averaged_perceptron_tagger.zip.\n",
            "[nltk_data] Downloading package wordnet to /root/nltk_data...\n",
            "[nltk_data]   Package wordnet is already up-to-date!\n"
          ]
        },
        {
          "output_type": "execute_result",
          "data": {
            "text/plain": [
              "True"
            ]
          },
          "metadata": {},
          "execution_count": 16
        }
      ]
    },
    {
      "cell_type": "code",
      "source": [
        "# Preprocessing steps\n",
        "# Modify contracted words, remove punctuations and stopwords then finally perform lemmatization\n",
        "import re\n",
        "def modify_texts(text):\n",
        "    text = text.lower()\n",
        "    text = re.sub(r\"i'm\", \"i am\", text)\n",
        "    text = re.sub(r\"you'll\", \"you will\", text)\n",
        "    text = re.sub(r\"i'll\", \"i will\", text)\n",
        "    text = re.sub(r\"she'll\", \"she will\", text)\n",
        "    text = re.sub(r\"he'll\", \"he will\", text)\n",
        "    text = re.sub(r\"can't\", \"cannot\", text)\n",
        "    text = re.sub(r\"won't\", \"will not\", text)\n",
        "    text = re.sub(r\"don't\", \"do not\", text)\n",
        "    text = re.sub(r\"shouldn't\", \"should not\", text)\n",
        "    text = re.sub(r\"he's\", \"he is\", text)\n",
        "    text = re.sub(r\"she's\", \"she is\", text)\n",
        "    text = re.sub(r\"that's\", \"that is\", text)\n",
        "    text = re.sub(r\"what's\", \"what is\", text)\n",
        "    text = re.sub(r\"where's\", \"where is\", text)\n",
        "    text = re.sub(r\"there's\", \"there is\", text)\n",
        "    text = re.sub(r\"here's\", \"here is\", text)\n",
        "    text = re.sub(r\"\\'ll\", \" will\", text)\n",
        "    text = re.sub(r\"\\'ve\", \" have\", text)\n",
        "    text = re.sub(r\"[^a-z]\", \" \", text) # Remove characters other than lower case letters\n",
        "    text = re.sub(r\"   \", \" \", text) # Remove extra spaces\n",
        "    return text\n",
        "\n",
        "def punctuation_removal(text):\n",
        "    \"\"\"Remove=punctuations\"\"\"\n",
        "    return re.sub(\"[.|,|;|?|!]\", \"\", text)\n",
        "\n",
        "STOPWORDS = set(stopwords.words('english'))\n",
        "def stopwords_removal(text):\n",
        "    \"\"\"Remove the stopwords\"\"\"\n",
        "    return \" \".join([word for word in str(text).split() if word not in STOPWORDS])\n",
        "\n",
        "def words_lemmatization(text):\n",
        "    wordNetLemmatizer = WordNetLemmatizer()\n",
        "    wordnet_map = {\"N\":wordnet.NOUN, \"V\":wordnet.VERB, \"J\":wordnet.ADJ, \"R\":wordnet.ADV}\n",
        "    pos_tagged_text = nltk.pos_tag(text.split())\n",
        "    return \" \".join([wordNetLemmatizer.lemmatize(word, wordnet_map.get(pos[0], wordnet.NOUN)) for word, pos in pos_tagged_text])"
      ],
      "metadata": {
        "id": "R3ty7Ty1N4zM"
      },
      "execution_count": 17,
      "outputs": []
    },
    {
      "cell_type": "code",
      "source": [
        "# Preprocess every query and doc using the above methods\n",
        "\n",
        "queryDf = pd.DataFrame(queries,columns = ['query'])\n",
        "docsDf = pd.DataFrame(docs_json).drop(['author','bibliography','id','title'],axis=1)\n",
        "\n",
        "docsDf['preprocessed'] = docsDf['body'].str.lower()\n",
        "queryDf['preprocessed'] = queryDf['query'].str.lower()\n",
        "\n",
        "docsDf['preprocessed'] = docsDf['preprocessed'].apply(modify_texts)\n",
        "queryDf['preprocessed'] = queryDf['preprocessed'].apply(modify_texts)\n",
        "\n",
        "docsDf['preprocessed'] = docsDf['preprocessed'].apply(lambda text: punctuation_removal(text))\n",
        "queryDf['preprocessed'] = queryDf['preprocessed'].apply(lambda text: punctuation_removal(text))\n",
        "\n",
        "docsDf['preprocessed'] = docsDf['preprocessed'].apply(lambda text: stopwords_removal(text))\n",
        "queryDf['preprocessed'] = queryDf['preprocessed'].apply(lambda text: stopwords_removal(text))\n",
        "\n",
        "docsDf['preprocessed'] = docsDf['preprocessed'].apply(lambda text: words_lemmatization(text))\n",
        "queryDf['preprocessed'] = queryDf['preprocessed'].apply(lambda text: words_lemmatization(text))\n",
        "\n",
        "docsDf.head()"
      ],
      "metadata": {
        "id": "P7ewyPoAPQFz",
        "colab": {
          "base_uri": "https://localhost:8080/",
          "height": 206
        },
        "outputId": "1d14c33f-af00-439c-9946-0273ee974adc"
      },
      "execution_count": 18,
      "outputs": [
        {
          "output_type": "execute_result",
          "data": {
            "text/plain": [
              "                                                body  \\\n",
              "0  experimental investigation of the aerodynamics...   \n",
              "1  simple shear flow past a flat plate in an inco...   \n",
              "2  the boundary layer in simple shear flow past a...   \n",
              "3  approximate solutions of the incompressible la...   \n",
              "4  one-dimensional transient heat conduction into...   \n",
              "\n",
              "                                        preprocessed  \n",
              "0  experimental investigation aerodynamics wing s...  \n",
              "1  simple shear flow past flat plate incompressib...  \n",
              "2  boundary layer simple shear flow past flat pla...  \n",
              "3  approximate solution incompressible laminar bo...  \n",
              "4  one dimensional transient heat conduction doub...  "
            ],
            "text/html": [
              "\n",
              "  <div id=\"df-3b752fbe-ee0d-44ba-a416-bb236cb0a14f\">\n",
              "    <div class=\"colab-df-container\">\n",
              "      <div>\n",
              "<style scoped>\n",
              "    .dataframe tbody tr th:only-of-type {\n",
              "        vertical-align: middle;\n",
              "    }\n",
              "\n",
              "    .dataframe tbody tr th {\n",
              "        vertical-align: top;\n",
              "    }\n",
              "\n",
              "    .dataframe thead th {\n",
              "        text-align: right;\n",
              "    }\n",
              "</style>\n",
              "<table border=\"1\" class=\"dataframe\">\n",
              "  <thead>\n",
              "    <tr style=\"text-align: right;\">\n",
              "      <th></th>\n",
              "      <th>body</th>\n",
              "      <th>preprocessed</th>\n",
              "    </tr>\n",
              "  </thead>\n",
              "  <tbody>\n",
              "    <tr>\n",
              "      <th>0</th>\n",
              "      <td>experimental investigation of the aerodynamics...</td>\n",
              "      <td>experimental investigation aerodynamics wing s...</td>\n",
              "    </tr>\n",
              "    <tr>\n",
              "      <th>1</th>\n",
              "      <td>simple shear flow past a flat plate in an inco...</td>\n",
              "      <td>simple shear flow past flat plate incompressib...</td>\n",
              "    </tr>\n",
              "    <tr>\n",
              "      <th>2</th>\n",
              "      <td>the boundary layer in simple shear flow past a...</td>\n",
              "      <td>boundary layer simple shear flow past flat pla...</td>\n",
              "    </tr>\n",
              "    <tr>\n",
              "      <th>3</th>\n",
              "      <td>approximate solutions of the incompressible la...</td>\n",
              "      <td>approximate solution incompressible laminar bo...</td>\n",
              "    </tr>\n",
              "    <tr>\n",
              "      <th>4</th>\n",
              "      <td>one-dimensional transient heat conduction into...</td>\n",
              "      <td>one dimensional transient heat conduction doub...</td>\n",
              "    </tr>\n",
              "  </tbody>\n",
              "</table>\n",
              "</div>\n",
              "      <button class=\"colab-df-convert\" onclick=\"convertToInteractive('df-3b752fbe-ee0d-44ba-a416-bb236cb0a14f')\"\n",
              "              title=\"Convert this dataframe to an interactive table.\"\n",
              "              style=\"display:none;\">\n",
              "        \n",
              "  <svg xmlns=\"http://www.w3.org/2000/svg\" height=\"24px\"viewBox=\"0 0 24 24\"\n",
              "       width=\"24px\">\n",
              "    <path d=\"M0 0h24v24H0V0z\" fill=\"none\"/>\n",
              "    <path d=\"M18.56 5.44l.94 2.06.94-2.06 2.06-.94-2.06-.94-.94-2.06-.94 2.06-2.06.94zm-11 1L8.5 8.5l.94-2.06 2.06-.94-2.06-.94L8.5 2.5l-.94 2.06-2.06.94zm10 10l.94 2.06.94-2.06 2.06-.94-2.06-.94-.94-2.06-.94 2.06-2.06.94z\"/><path d=\"M17.41 7.96l-1.37-1.37c-.4-.4-.92-.59-1.43-.59-.52 0-1.04.2-1.43.59L10.3 9.45l-7.72 7.72c-.78.78-.78 2.05 0 2.83L4 21.41c.39.39.9.59 1.41.59.51 0 1.02-.2 1.41-.59l7.78-7.78 2.81-2.81c.8-.78.8-2.07 0-2.86zM5.41 20L4 18.59l7.72-7.72 1.47 1.35L5.41 20z\"/>\n",
              "  </svg>\n",
              "      </button>\n",
              "      \n",
              "  <style>\n",
              "    .colab-df-container {\n",
              "      display:flex;\n",
              "      flex-wrap:wrap;\n",
              "      gap: 12px;\n",
              "    }\n",
              "\n",
              "    .colab-df-convert {\n",
              "      background-color: #E8F0FE;\n",
              "      border: none;\n",
              "      border-radius: 50%;\n",
              "      cursor: pointer;\n",
              "      display: none;\n",
              "      fill: #1967D2;\n",
              "      height: 32px;\n",
              "      padding: 0 0 0 0;\n",
              "      width: 32px;\n",
              "    }\n",
              "\n",
              "    .colab-df-convert:hover {\n",
              "      background-color: #E2EBFA;\n",
              "      box-shadow: 0px 1px 2px rgba(60, 64, 67, 0.3), 0px 1px 3px 1px rgba(60, 64, 67, 0.15);\n",
              "      fill: #174EA6;\n",
              "    }\n",
              "\n",
              "    [theme=dark] .colab-df-convert {\n",
              "      background-color: #3B4455;\n",
              "      fill: #D2E3FC;\n",
              "    }\n",
              "\n",
              "    [theme=dark] .colab-df-convert:hover {\n",
              "      background-color: #434B5C;\n",
              "      box-shadow: 0px 1px 3px 1px rgba(0, 0, 0, 0.15);\n",
              "      filter: drop-shadow(0px 1px 2px rgba(0, 0, 0, 0.3));\n",
              "      fill: #FFFFFF;\n",
              "    }\n",
              "  </style>\n",
              "\n",
              "      <script>\n",
              "        const buttonEl =\n",
              "          document.querySelector('#df-3b752fbe-ee0d-44ba-a416-bb236cb0a14f button.colab-df-convert');\n",
              "        buttonEl.style.display =\n",
              "          google.colab.kernel.accessAllowed ? 'block' : 'none';\n",
              "\n",
              "        async function convertToInteractive(key) {\n",
              "          const element = document.querySelector('#df-3b752fbe-ee0d-44ba-a416-bb236cb0a14f');\n",
              "          const dataTable =\n",
              "            await google.colab.kernel.invokeFunction('convertToInteractive',\n",
              "                                                     [key], {});\n",
              "          if (!dataTable) return;\n",
              "\n",
              "          const docLinkHtml = 'Like what you see? Visit the ' +\n",
              "            '<a target=\"_blank\" href=https://colab.research.google.com/notebooks/data_table.ipynb>data table notebook</a>'\n",
              "            + ' to learn more about interactive tables.';\n",
              "          element.innerHTML = '';\n",
              "          dataTable['output_type'] = 'display_data';\n",
              "          await google.colab.output.renderOutput(dataTable, element);\n",
              "          const docLink = document.createElement('div');\n",
              "          docLink.innerHTML = docLinkHtml;\n",
              "          element.appendChild(docLink);\n",
              "        }\n",
              "      </script>\n",
              "    </div>\n",
              "  </div>\n",
              "  "
            ]
          },
          "metadata": {},
          "execution_count": 18
        }
      ]
    },
    {
      "cell_type": "markdown",
      "source": [
        "<h3>Prepare the corpus</h3>"
      ],
      "metadata": {
        "id": "i3bhlsAJaX6Y"
      }
    },
    {
      "cell_type": "code",
      "source": [
        "corpus = docsDf['preprocessed'].tolist() + queryDf['preprocessed'].tolist()"
      ],
      "metadata": {
        "id": "htsv7PD7Psa7"
      },
      "execution_count": 19,
      "outputs": []
    },
    {
      "cell_type": "markdown",
      "source": [
        "<h3>Tf-idf representation</h3>"
      ],
      "metadata": {
        "id": "VCwEygzgPvy6"
      }
    },
    {
      "cell_type": "code",
      "source": [
        "# we use sklearn tfidf vectorizer as it can directly take our corpus for performing transform and fitting operations\n",
        "tfidfVectorizer = TfidfVectorizer()\n",
        "X = tfidfVectorizer.fit_transform(corpus)\n",
        "print(\"Vocabulary size: {}\".format(X.shape[1]))\n",
        "\n",
        "feature_names = tfidfVectorizer.get_feature_names()\n",
        "columns = ['doc_' + str(i) for i in range(1,X.shape[0]+1)]\n",
        "\n",
        "tfidfDf = pd.DataFrame(X.T.todense(), index=feature_names, columns=columns)\n",
        "tfidfDf.head()"
      ],
      "metadata": {
        "colab": {
          "base_uri": "https://localhost:8080/",
          "height": 288
        },
        "id": "oW_Qe6kZPz8R",
        "outputId": "3dacaefb-b220-436f-e82d-10e29b3de948"
      },
      "execution_count": 20,
      "outputs": [
        {
          "output_type": "stream",
          "name": "stdout",
          "text": [
            "Vocabulary size: 5599\n"
          ]
        },
        {
          "output_type": "stream",
          "name": "stderr",
          "text": [
            "/usr/local/lib/python3.7/dist-packages/sklearn/utils/deprecation.py:87: FutureWarning: Function get_feature_names is deprecated; get_feature_names is deprecated in 1.0 and will be removed in 1.2. Please use get_feature_names_out instead.\n",
            "  warnings.warn(msg, category=FutureWarning)\n"
          ]
        },
        {
          "output_type": "execute_result",
          "data": {
            "text/plain": [
              "             doc_1  doc_2  doc_3  doc_4  doc_5  doc_6  doc_7  doc_8  doc_9  \\\n",
              "ab             0.0    0.0    0.0    0.0    0.0    0.0    0.0    0.0    0.0   \n",
              "abbreviated    0.0    0.0    0.0    0.0    0.0    0.0    0.0    0.0    0.0   \n",
              "ability        0.0    0.0    0.0    0.0    0.0    0.0    0.0    0.0    0.0   \n",
              "ablate         0.0    0.0    0.0    0.0    0.0    0.0    0.0    0.0    0.0   \n",
              "ablation       0.0    0.0    0.0    0.0    0.0    0.0    0.0    0.0    0.0   \n",
              "\n",
              "             doc_10  ...  doc_1616  doc_1617  doc_1618  doc_1619  doc_1620  \\\n",
              "ab              0.0  ...       0.0       0.0       0.0       0.0       0.0   \n",
              "abbreviated     0.0  ...       0.0       0.0       0.0       0.0       0.0   \n",
              "ability         0.0  ...       0.0       0.0       0.0       0.0       0.0   \n",
              "ablate          0.0  ...       0.0       0.0       0.0       0.0       0.0   \n",
              "ablation        0.0  ...       0.0       0.0       0.0       0.0       0.0   \n",
              "\n",
              "             doc_1621  doc_1622  doc_1623  doc_1624  doc_1625  \n",
              "ab                0.0       0.0       0.0       0.0       0.0  \n",
              "abbreviated       0.0       0.0       0.0       0.0       0.0  \n",
              "ability           0.0       0.0       0.0       0.0       0.0  \n",
              "ablate            0.0       0.0       0.0       0.0       0.0  \n",
              "ablation          0.0       0.0       0.0       0.0       0.0  \n",
              "\n",
              "[5 rows x 1625 columns]"
            ],
            "text/html": [
              "\n",
              "  <div id=\"df-72bbb5ec-c789-486b-a902-299bf39244b4\">\n",
              "    <div class=\"colab-df-container\">\n",
              "      <div>\n",
              "<style scoped>\n",
              "    .dataframe tbody tr th:only-of-type {\n",
              "        vertical-align: middle;\n",
              "    }\n",
              "\n",
              "    .dataframe tbody tr th {\n",
              "        vertical-align: top;\n",
              "    }\n",
              "\n",
              "    .dataframe thead th {\n",
              "        text-align: right;\n",
              "    }\n",
              "</style>\n",
              "<table border=\"1\" class=\"dataframe\">\n",
              "  <thead>\n",
              "    <tr style=\"text-align: right;\">\n",
              "      <th></th>\n",
              "      <th>doc_1</th>\n",
              "      <th>doc_2</th>\n",
              "      <th>doc_3</th>\n",
              "      <th>doc_4</th>\n",
              "      <th>doc_5</th>\n",
              "      <th>doc_6</th>\n",
              "      <th>doc_7</th>\n",
              "      <th>doc_8</th>\n",
              "      <th>doc_9</th>\n",
              "      <th>doc_10</th>\n",
              "      <th>...</th>\n",
              "      <th>doc_1616</th>\n",
              "      <th>doc_1617</th>\n",
              "      <th>doc_1618</th>\n",
              "      <th>doc_1619</th>\n",
              "      <th>doc_1620</th>\n",
              "      <th>doc_1621</th>\n",
              "      <th>doc_1622</th>\n",
              "      <th>doc_1623</th>\n",
              "      <th>doc_1624</th>\n",
              "      <th>doc_1625</th>\n",
              "    </tr>\n",
              "  </thead>\n",
              "  <tbody>\n",
              "    <tr>\n",
              "      <th>ab</th>\n",
              "      <td>0.0</td>\n",
              "      <td>0.0</td>\n",
              "      <td>0.0</td>\n",
              "      <td>0.0</td>\n",
              "      <td>0.0</td>\n",
              "      <td>0.0</td>\n",
              "      <td>0.0</td>\n",
              "      <td>0.0</td>\n",
              "      <td>0.0</td>\n",
              "      <td>0.0</td>\n",
              "      <td>...</td>\n",
              "      <td>0.0</td>\n",
              "      <td>0.0</td>\n",
              "      <td>0.0</td>\n",
              "      <td>0.0</td>\n",
              "      <td>0.0</td>\n",
              "      <td>0.0</td>\n",
              "      <td>0.0</td>\n",
              "      <td>0.0</td>\n",
              "      <td>0.0</td>\n",
              "      <td>0.0</td>\n",
              "    </tr>\n",
              "    <tr>\n",
              "      <th>abbreviated</th>\n",
              "      <td>0.0</td>\n",
              "      <td>0.0</td>\n",
              "      <td>0.0</td>\n",
              "      <td>0.0</td>\n",
              "      <td>0.0</td>\n",
              "      <td>0.0</td>\n",
              "      <td>0.0</td>\n",
              "      <td>0.0</td>\n",
              "      <td>0.0</td>\n",
              "      <td>0.0</td>\n",
              "      <td>...</td>\n",
              "      <td>0.0</td>\n",
              "      <td>0.0</td>\n",
              "      <td>0.0</td>\n",
              "      <td>0.0</td>\n",
              "      <td>0.0</td>\n",
              "      <td>0.0</td>\n",
              "      <td>0.0</td>\n",
              "      <td>0.0</td>\n",
              "      <td>0.0</td>\n",
              "      <td>0.0</td>\n",
              "    </tr>\n",
              "    <tr>\n",
              "      <th>ability</th>\n",
              "      <td>0.0</td>\n",
              "      <td>0.0</td>\n",
              "      <td>0.0</td>\n",
              "      <td>0.0</td>\n",
              "      <td>0.0</td>\n",
              "      <td>0.0</td>\n",
              "      <td>0.0</td>\n",
              "      <td>0.0</td>\n",
              "      <td>0.0</td>\n",
              "      <td>0.0</td>\n",
              "      <td>...</td>\n",
              "      <td>0.0</td>\n",
              "      <td>0.0</td>\n",
              "      <td>0.0</td>\n",
              "      <td>0.0</td>\n",
              "      <td>0.0</td>\n",
              "      <td>0.0</td>\n",
              "      <td>0.0</td>\n",
              "      <td>0.0</td>\n",
              "      <td>0.0</td>\n",
              "      <td>0.0</td>\n",
              "    </tr>\n",
              "    <tr>\n",
              "      <th>ablate</th>\n",
              "      <td>0.0</td>\n",
              "      <td>0.0</td>\n",
              "      <td>0.0</td>\n",
              "      <td>0.0</td>\n",
              "      <td>0.0</td>\n",
              "      <td>0.0</td>\n",
              "      <td>0.0</td>\n",
              "      <td>0.0</td>\n",
              "      <td>0.0</td>\n",
              "      <td>0.0</td>\n",
              "      <td>...</td>\n",
              "      <td>0.0</td>\n",
              "      <td>0.0</td>\n",
              "      <td>0.0</td>\n",
              "      <td>0.0</td>\n",
              "      <td>0.0</td>\n",
              "      <td>0.0</td>\n",
              "      <td>0.0</td>\n",
              "      <td>0.0</td>\n",
              "      <td>0.0</td>\n",
              "      <td>0.0</td>\n",
              "    </tr>\n",
              "    <tr>\n",
              "      <th>ablation</th>\n",
              "      <td>0.0</td>\n",
              "      <td>0.0</td>\n",
              "      <td>0.0</td>\n",
              "      <td>0.0</td>\n",
              "      <td>0.0</td>\n",
              "      <td>0.0</td>\n",
              "      <td>0.0</td>\n",
              "      <td>0.0</td>\n",
              "      <td>0.0</td>\n",
              "      <td>0.0</td>\n",
              "      <td>...</td>\n",
              "      <td>0.0</td>\n",
              "      <td>0.0</td>\n",
              "      <td>0.0</td>\n",
              "      <td>0.0</td>\n",
              "      <td>0.0</td>\n",
              "      <td>0.0</td>\n",
              "      <td>0.0</td>\n",
              "      <td>0.0</td>\n",
              "      <td>0.0</td>\n",
              "      <td>0.0</td>\n",
              "    </tr>\n",
              "  </tbody>\n",
              "</table>\n",
              "<p>5 rows × 1625 columns</p>\n",
              "</div>\n",
              "      <button class=\"colab-df-convert\" onclick=\"convertToInteractive('df-72bbb5ec-c789-486b-a902-299bf39244b4')\"\n",
              "              title=\"Convert this dataframe to an interactive table.\"\n",
              "              style=\"display:none;\">\n",
              "        \n",
              "  <svg xmlns=\"http://www.w3.org/2000/svg\" height=\"24px\"viewBox=\"0 0 24 24\"\n",
              "       width=\"24px\">\n",
              "    <path d=\"M0 0h24v24H0V0z\" fill=\"none\"/>\n",
              "    <path d=\"M18.56 5.44l.94 2.06.94-2.06 2.06-.94-2.06-.94-.94-2.06-.94 2.06-2.06.94zm-11 1L8.5 8.5l.94-2.06 2.06-.94-2.06-.94L8.5 2.5l-.94 2.06-2.06.94zm10 10l.94 2.06.94-2.06 2.06-.94-2.06-.94-.94-2.06-.94 2.06-2.06.94z\"/><path d=\"M17.41 7.96l-1.37-1.37c-.4-.4-.92-.59-1.43-.59-.52 0-1.04.2-1.43.59L10.3 9.45l-7.72 7.72c-.78.78-.78 2.05 0 2.83L4 21.41c.39.39.9.59 1.41.59.51 0 1.02-.2 1.41-.59l7.78-7.78 2.81-2.81c.8-.78.8-2.07 0-2.86zM5.41 20L4 18.59l7.72-7.72 1.47 1.35L5.41 20z\"/>\n",
              "  </svg>\n",
              "      </button>\n",
              "      \n",
              "  <style>\n",
              "    .colab-df-container {\n",
              "      display:flex;\n",
              "      flex-wrap:wrap;\n",
              "      gap: 12px;\n",
              "    }\n",
              "\n",
              "    .colab-df-convert {\n",
              "      background-color: #E8F0FE;\n",
              "      border: none;\n",
              "      border-radius: 50%;\n",
              "      cursor: pointer;\n",
              "      display: none;\n",
              "      fill: #1967D2;\n",
              "      height: 32px;\n",
              "      padding: 0 0 0 0;\n",
              "      width: 32px;\n",
              "    }\n",
              "\n",
              "    .colab-df-convert:hover {\n",
              "      background-color: #E2EBFA;\n",
              "      box-shadow: 0px 1px 2px rgba(60, 64, 67, 0.3), 0px 1px 3px 1px rgba(60, 64, 67, 0.15);\n",
              "      fill: #174EA6;\n",
              "    }\n",
              "\n",
              "    [theme=dark] .colab-df-convert {\n",
              "      background-color: #3B4455;\n",
              "      fill: #D2E3FC;\n",
              "    }\n",
              "\n",
              "    [theme=dark] .colab-df-convert:hover {\n",
              "      background-color: #434B5C;\n",
              "      box-shadow: 0px 1px 3px 1px rgba(0, 0, 0, 0.15);\n",
              "      filter: drop-shadow(0px 1px 2px rgba(0, 0, 0, 0.3));\n",
              "      fill: #FFFFFF;\n",
              "    }\n",
              "  </style>\n",
              "\n",
              "      <script>\n",
              "        const buttonEl =\n",
              "          document.querySelector('#df-72bbb5ec-c789-486b-a902-299bf39244b4 button.colab-df-convert');\n",
              "        buttonEl.style.display =\n",
              "          google.colab.kernel.accessAllowed ? 'block' : 'none';\n",
              "\n",
              "        async function convertToInteractive(key) {\n",
              "          const element = document.querySelector('#df-72bbb5ec-c789-486b-a902-299bf39244b4');\n",
              "          const dataTable =\n",
              "            await google.colab.kernel.invokeFunction('convertToInteractive',\n",
              "                                                     [key], {});\n",
              "          if (!dataTable) return;\n",
              "\n",
              "          const docLinkHtml = 'Like what you see? Visit the ' +\n",
              "            '<a target=\"_blank\" href=https://colab.research.google.com/notebooks/data_table.ipynb>data table notebook</a>'\n",
              "            + ' to learn more about interactive tables.';\n",
              "          element.innerHTML = '';\n",
              "          dataTable['output_type'] = 'display_data';\n",
              "          await google.colab.output.renderOutput(dataTable, element);\n",
              "          const docLink = document.createElement('div');\n",
              "          docLink.innerHTML = docLinkHtml;\n",
              "          element.appendChild(docLink);\n",
              "        }\n",
              "      </script>\n",
              "    </div>\n",
              "  </div>\n",
              "  "
            ]
          },
          "metadata": {},
          "execution_count": 20
        }
      ]
    },
    {
      "cell_type": "code",
      "source": [
        "# documents tfidf representation \n",
        "tf_idf_docs_vsm_preprocessed = tfidfDf[columns[:len(docsDf)]].values\n",
        "# queries tfidf representation\n",
        "vec_rep_queries_vsm_preprocessed = tfidfDf[columns[len(docsDf):]].values"
      ],
      "metadata": {
        "id": "SsXxyNJNQFs0"
      },
      "execution_count": 21,
      "outputs": []
    },
    {
      "cell_type": "code",
      "source": [
        "cosine_sim_vsm_preprocessed = np.matmul(tf_idf_docs_vsm_preprocessed.T, vec_rep_queries_vsm_preprocessed)\n",
        "\n",
        "# Documents are ordered based on cosine similarity\n",
        "doc_IDs_ordered_vsm_preprocessed = (np.argsort(cosine_sim_vsm_preprocessed,axis=0)+1)[::-1].T.tolist()"
      ],
      "metadata": {
        "id": "iS8qP-j1QHF7"
      },
      "execution_count": 22,
      "outputs": []
    },
    {
      "cell_type": "code",
      "source": [
        "em(doc_IDs_ordered_vsm_preprocessed, query_ids, qrels,0,\",M2 model\", 0, \"./output\", 1)"
      ],
      "metadata": {
        "colab": {
          "base_uri": "https://localhost:8080/",
          "height": 697
        },
        "id": "zE6j5YuUQJ2d",
        "outputId": "97de5845-1d9e-403f-e8cf-f53c361c012a"
      },
      "execution_count": 23,
      "outputs": [
        {
          "output_type": "stream",
          "name": "stdout",
          "text": [
            "Precision, Recall and F-score @ 1 : 0.6933333333333334, 0.11813159596691133, 0.19345722168811094\n",
            "MAP, nDCG @ 1 : 0.6933333333333334, 0.6933333333333334\n",
            "Precision, Recall and F-score @ 2 : 0.5666666666666667, 0.18859036312567867, 0.26577595814690075\n",
            "MAP, nDCG @ 2 : 0.7333333333333333, 0.7107903582982895\n",
            "Precision, Recall and F-score @ 3 : 0.5007407407407409, 0.24088233127783326, 0.3022374292347652\n",
            "MAP, nDCG @ 3 : 0.733703703703704, 0.7066638961316302\n",
            "Precision, Recall and F-score @ 4 : 0.46111111111111114, 0.28726653227454285, 0.32769150280712667\n",
            "MAP, nDCG @ 4 : 0.72320987654321, 0.7021842146862074\n",
            "Precision, Recall and F-score @ 5 : 0.41155555555555584, 0.3132692600374572, 0.3281620307874807\n",
            "MAP, nDCG @ 5 : 0.7205185185185184, 0.708498755367499\n",
            "Precision, Recall and F-score @ 6 : 0.37925925925925913, 0.3417134418666964, 0.3315977221122444\n",
            "MAP, nDCG @ 6 : 0.7093382716049381, 0.7048744961377061\n",
            "Precision, Recall and F-score @ 7 : 0.3561904761904765, 0.3688050070190457, 0.33406310057661737\n",
            "MAP, nDCG @ 7 : 0.6975890652557317, 0.7017311098171776\n",
            "Precision, Recall and F-score @ 8 : 0.33166666666666667, 0.3889217270722985, 0.33017831694947436\n",
            "MAP, nDCG @ 8 : 0.6872920634920634, 0.6961563347592048\n",
            "Precision, Recall and F-score @ 9 : 0.31111111111111156, 0.4060300595656883, 0.3254910453063355\n",
            "MAP, nDCG @ 9 : 0.6797716931216928, 0.6928260408428056\n",
            "Precision, Recall and F-score @ 10 : 0.2915555555555558, 0.41912334159230363, 0.31797114245637054\n",
            "MAP, nDCG @ 10 : 0.6714873351809855, 0.69042831304688\n"
          ]
        },
        {
          "output_type": "display_data",
          "data": {
            "text/plain": [
              "<Figure size 720x360 with 1 Axes>"
            ],
            "image/png": "[encoded data removed]"
          },
          "metadata": {
            "needs_background": "light"
          }
        }
      ]
    },
    {
      "cell_type": "markdown",
      "source": [
        "<h1>2.1 LSA on preprocessed docs and queries</h1>\n",
        "\n"
      ],
      "metadata": {
        "id": "KkG6vJaHdCkG"
      }
    },
    {
      "cell_type": "code",
      "source": [
        "n = 500\n",
        "lsa = TruncatedSVD(n_components=n)\n",
        "lsa.fit(tf_idf_docs_vsm_preprocessed.T)\n",
        "tf_idf_docs_vsm_preprocessed_transformed=lsa.transform(tf_idf_docs_vsm_preprocessed.T).T\n",
        "vec_rep_queries_vsm_preprocessed_transformed=lsa.transform(vec_rep_queries_vsm_preprocessed.T).T\n",
        "tf_idf_docs_vsm_preprocessed_transformed_norm=normalize(tf_idf_docs_vsm_preprocessed_transformed, norm='l2', axis=0)\n",
        "vec_rep_queries_vsm_preprocessed_transformed_norm=normalize(vec_rep_queries_vsm_preprocessed_transformed, norm='l2', axis=0)\n",
        "cosine_sim_lsa = np.matmul(tf_idf_docs_vsm_preprocessed_transformed_norm.T, vec_rep_queries_vsm_preprocessed_transformed_norm)\n",
        "doc_IDs_ordered_preprocessed_lsa = (np.argsort(cosine_sim_lsa,axis=0)+1)[::-1].T.tolist()\n",
        "em(doc_IDs_ordered_preprocessed_lsa, query_ids, qrels, n, \"M2-LSA (500 latent variables)\", 0, \"./output/\", 1)"
      ],
      "metadata": {
        "colab": {
          "base_uri": "https://localhost:8080/",
          "height": 697
        },
        "id": "9V0m_Rbedtbl",
        "outputId": "a301f1cc-dc5f-457d-f7e1-8daecbbdf67d"
      },
      "execution_count": 38,
      "outputs": [
        {
          "output_type": "stream",
          "name": "stdout",
          "text": [
            "Precision, Recall and F-score @ 1 : 0.7111111111111111, 0.11932896649761521, 0.19555101678190603\n",
            "MAP, nDCG @ 1 : 0.7111111111111111, 0.7111111111111111\n",
            "Precision, Recall and F-score @ 2 : 0.58, 0.189421065383234, 0.2680826596409253\n",
            "MAP, nDCG @ 2 : 0.74, 0.7125522784462277\n",
            "Precision, Recall and F-score @ 3 : 0.5037037037037038, 0.2394821000763851, 0.3015240667707633\n",
            "MAP, nDCG @ 3 : 0.7403703703703706, 0.7097030892045385\n",
            "Precision, Recall and F-score @ 4 : 0.4666666666666667, 0.2907841124201932, 0.33201347120245844\n",
            "MAP, nDCG @ 4 : 0.7311111111111113, 0.7110903670050986\n",
            "Precision, Recall and F-score @ 5 : 0.4231111111111114, 0.32283845808704725, 0.33791370937300863\n",
            "MAP, nDCG @ 5 : 0.7227345679012345, 0.7100374117622956\n",
            "Precision, Recall and F-score @ 6 : 0.38962962962962977, 0.3526528499531631, 0.34136412062800353\n",
            "MAP, nDCG @ 6 : 0.7118197530864196, 0.7058715122937398\n",
            "Precision, Recall and F-score @ 7 : 0.36317460317460354, 0.3778328076135132, 0.3418012250840452\n",
            "MAP, nDCG @ 7 : 0.7009021164021159, 0.7015207488800717\n",
            "Precision, Recall and F-score @ 8 : 0.3388888888888889, 0.39798991232234204, 0.3380843142669642\n",
            "MAP, nDCG @ 8 : 0.6901921894683797, 0.692713317712405\n",
            "Precision, Recall and F-score @ 9 : 0.3175308641975315, 0.4154930360953317, 0.332853606723983\n",
            "MAP, nDCG @ 9 : 0.6817912194507431, 0.69289760357887\n",
            "Precision, Recall and F-score @ 10 : 0.29911111111111127, 0.42962899889796113, 0.3267609836786731\n",
            "MAP, nDCG @ 10 : 0.67164077643403, 0.68444679484964\n"
          ]
        },
        {
          "output_type": "display_data",
          "data": {
            "text/plain": [
              "<Figure size 720x360 with 1 Axes>"
            ],
            "image/png": "[encoded data removed]"
          },
          "metadata": {
            "needs_background": "light"
          }
        }
      ]
    },
    {
      "cell_type": "markdown",
      "source": [
        "<h1>II. Hypothesis testing</h1>"
      ],
      "metadata": {
        "id": "RfA5AezFnAix"
      }
    },
    {
      "cell_type": "code",
      "source": [
        "from scipy.special import stdtr\n",
        "\n",
        "def hypothesis_test(q1, q2):\n",
        "\n",
        "    \"\"\"\n",
        "    Two Sample t-test\n",
        "    Inputs:\n",
        "    q1 : List, sample 1 values\n",
        "    q2 : List, sample 2 values\n",
        "    Output:\n",
        "    tf : float, t-value of hypothesis testing\n",
        "    pf : float, p-value\n",
        "    \"\"\"\n",
        "    a = np.array(q1)\n",
        "    b = np.array(q2)\n",
        "    a_bar = a.mean()\n",
        "    a_var = a.var(ddof=1)\n",
        "    a_dof = a.size - 1\n",
        "\n",
        "    b_bar = b.mean()\n",
        "    b_var = b.var(ddof=1)\n",
        "    b_dof = b.size - 1\n",
        "\n",
        "    tf = (a_bar - b_bar) / np.sqrt(a_var/a.size + b_var/b.size)\n",
        "    dof = (a_var/a.size + b_var/b.size)**2 / (a_var**2/(a.size**2*a_dof) + b_var**2/(b.size**2*b_dof))\n",
        "    pf = 2*stdtr(dof, -np.abs(tf))\n",
        "\n",
        "    # print(\"formula: t = %g  p = %g\" % (tf, pf))\n",
        "    return tf, pf"
      ],
      "metadata": {
        "id": "ypmk1e1En9iM"
      },
      "execution_count": 25,
      "outputs": []
    },
    {
      "cell_type": "markdown",
      "source": [
        "<h3> Get evaluation metrics for all models for top \"k\" docs retreived<h3>"
      ],
      "metadata": {
        "id": "Q_ISB0UDoPhM"
      }
    },
    {
      "cell_type": "code",
      "source": [
        "k = 10\n",
        "#VSM\n",
        "q_precision_vsm, q_recall_vsm, q_fscore_vsm, q_ndcg_vsm = runEvaluation(qrels, doc_IDs_ordered_vsm, queries, k)\n",
        "# VSM with preprocessed queries and docs\n",
        "q_precision_vsm_preprocessed, q_recall_vsm_preprocessed, q_fscore_vsm_preprocessed, q_ndcg_vsm_preprocessed = runEvaluation(qrels, doc_IDs_ordered_vsm_preprocessed, queries, k)\n",
        "# LSA\n",
        "q_precision_lsa, q_recall_lsa, q_fscore_lsa, q_ndcg_lsa = runEvaluation(qrels, doc_IDs_ordered_lsa, queries, k)\n",
        "# LSA with preprocessed queries and docs\n",
        "q_precision_lsa_preprocessed, q_recall_lsa_preprocessed, q_fscore_lsa_preprocessed, q_ndcg_lsa_preprocessed = runEvaluation(qrels, doc_IDs_ordered_preprocessed_lsa, queries, k)"
      ],
      "metadata": {
        "id": "p1D_vHl-oOdm"
      },
      "execution_count": 26,
      "outputs": []
    },
    {
      "cell_type": "markdown",
      "source": [
        "<h2>1. VSM vs VSM_preprocessed</h2>"
      ],
      "metadata": {
        "id": "sjxoAqNLnE4O"
      }
    },
    {
      "cell_type": "code",
      "source": [
        "t,p = hypothesis_test(q_precision_vsm, q_precision_vsm_preprocessed)\n",
        "print(\"Precision: t = %g  p = %g\" % (t, p))\n",
        "t,p = hypothesis_test(q_recall_vsm, q_recall_vsm_preprocessed)\n",
        "print(\"Recall: t = %g  p = %g\" % (t, p))\n",
        "t,p = hypothesis_test(q_fscore_vsm, q_fscore_vsm_preprocessed)\n",
        "print(\"Fscore: t = %g  p = %g\" % (t, p))\n",
        "t,p = hypothesis_test(q_ndcg_vsm, q_ndcg_vsm_preprocessed)\n",
        "print(\"nDCG: t = %g  p = %g\" % (t, p))"
      ],
      "metadata": {
        "colab": {
          "base_uri": "https://localhost:8080/"
        },
        "id": "MLynIILjsDGs",
        "outputId": "7d6009d8-7620-413b-d6ab-701408d7f70d"
      },
      "execution_count": 27,
      "outputs": [
        {
          "output_type": "stream",
          "name": "stdout",
          "text": [
            "Precision: t = -3.16902  p = 0.0016347\n",
            "Recall: t = -3.07628  p = 0.00222461\n",
            "Fscore: t = -3.46671  p = 0.000577746\n",
            "nDCG: t = -3.28127  p = 0.00111684\n"
          ]
        }
      ]
    },
    {
      "cell_type": "markdown",
      "source": [
        "<h2>2. VSM vs LSA</h2>"
      ],
      "metadata": {
        "id": "E5iVLHStzFWF"
      }
    },
    {
      "cell_type": "code",
      "source": [
        "t,p = hypothesis_test(q_precision_vsm, q_precision_lsa)\n",
        "print(\"Precision: t = %g  p = %g\" % (t, p))\n",
        "t,p = hypothesis_test(q_recall_vsm, q_recall_lsa)\n",
        "print(\"Recall: t = %g  p = %g\" % (t, p))\n",
        "t,p = hypothesis_test(q_fscore_vsm, q_fscore_lsa)\n",
        "print(\"Fscore: t = %g  p = %g\" % (t, p))\n",
        "t,p = hypothesis_test(q_ndcg_vsm, q_ndcg_lsa)\n",
        "print(\"nDCG: t = %g  p = %g\" % (t, p))"
      ],
      "metadata": {
        "colab": {
          "base_uri": "https://localhost:8080/"
        },
        "id": "iYti3Pa6zL2L",
        "outputId": "529dc4bf-518f-448d-964c-6407476314f8"
      },
      "execution_count": 28,
      "outputs": [
        {
          "output_type": "stream",
          "name": "stdout",
          "text": [
            "Precision: t = -3.17567  p = 0.00159919\n",
            "Recall: t = -2.9365  p = 0.00349079\n",
            "Fscore: t = -3.38497  p = 0.000774818\n",
            "nDCG: t = -2.63744  p = 0.00864995\n"
          ]
        }
      ]
    },
    {
      "cell_type": "markdown",
      "source": [
        "<h2>3. LSA vs VSM_preprocessed</h2>\n"
      ],
      "metadata": {
        "id": "lg225oMmyxfG"
      }
    },
    {
      "cell_type": "code",
      "source": [
        "t,p = hypothesis_test(q_precision_lsa, q_precision_vsm_preprocessed)\n",
        "print(\"Precision: t = %g  p = %g\" % (t, p))\n",
        "t,p = hypothesis_test(q_recall_lsa, q_recall_vsm_preprocessed)\n",
        "print(\"Recall: t = %g  p = %g\" % (t, p))\n",
        "t,p = hypothesis_test(q_fscore_lsa, q_fscore_vsm_preprocessed)\n",
        "print(\"Fscore: t = %g  p = %g\" % (t, p))\n",
        "t,p = hypothesis_test(q_ndcg_lsa, q_ndcg_vsm_preprocessed)\n",
        "print(\"nDCG: t = %g  p = %g\" % (t, p))"
      ],
      "metadata": {
        "colab": {
          "base_uri": "https://localhost:8080/"
        },
        "id": "Vd_znNBry1ur",
        "outputId": "eedb478b-a834-4d1d-da3c-a0cb77197c4b"
      },
      "execution_count": 29,
      "outputs": [
        {
          "output_type": "stream",
          "name": "stdout",
          "text": [
            "Precision: t = 0.0735069  p = 0.941436\n",
            "Recall: t = -0.124429  p = 0.901032\n",
            "Fscore: t = -0.00771477  p = 0.993848\n",
            "nDCG: t = -0.649749  p = 0.516188\n"
          ]
        }
      ]
    },
    {
      "cell_type": "markdown",
      "source": [
        "<h2>4. LSA_preprocessed vs VSM_preprocessed</h2>\n"
      ],
      "metadata": {
        "id": "vgdChKqkM_PN"
      }
    },
    {
      "cell_type": "code",
      "source": [
        "t,p = hypothesis_test(q_precision_lsa_preprocessed, q_precision_vsm_preprocessed)\n",
        "print(\"Precision: t = %g  p = %g\" % (t, p))\n",
        "t,p = hypothesis_test(q_recall_lsa_preprocessed, q_recall_vsm_preprocessed)\n",
        "print(\"Recall: t = %g  p = %g\" % (t, p))\n",
        "t,p = hypothesis_test(q_fscore_lsa_preprocessed, q_fscore_vsm_preprocessed)\n",
        "print(\"Fscore: t = %g  p = %g\" % (t, p))\n",
        "t,p = hypothesis_test(q_ndcg_lsa_preprocessed, q_ndcg_vsm_preprocessed)\n",
        "print(\"nDCG: t = %g  p = %g\" % (t, p))"
      ],
      "metadata": {
        "colab": {
          "base_uri": "https://localhost:8080/"
        },
        "id": "bxIzdEPfNJWs",
        "outputId": "e4b048c4-c3ea-4ad8-a32f-c25a2caae5e5"
      },
      "execution_count": 30,
      "outputs": [
        {
          "output_type": "stream",
          "name": "stdout",
          "text": [
            "Precision: t = 0.493611  p = 0.621823\n",
            "Recall: t = 0.453204  p = 0.650621\n",
            "Fscore: t = 0.575398  p = 0.565312\n",
            "nDCG: t = -0.208915  p = 0.83461\n"
          ]
        }
      ]
    },
    {
      "cell_type": "markdown",
      "source": [
        "<h2>5. LSA vs LSA_preprocessed</h2>\n"
      ],
      "metadata": {
        "id": "_ZojqTj_NcBs"
      }
    },
    {
      "cell_type": "code",
      "source": [
        "t,p = hypothesis_test(q_precision_lsa, q_precision_lsa_preprocessed)\n",
        "print(\"Precision: t = %g  p = %g\" % (t, p))\n",
        "t,p = hypothesis_test(q_recall_lsa, q_recall_lsa_preprocessed)\n",
        "print(\"Recall: t = %g  p = %g\" % (t, p))\n",
        "t,p = hypothesis_test(q_fscore_lsa, q_fscore_lsa_preprocessed)\n",
        "print(\"Fscore: t = %g  p = %g\" % (t, p))\n",
        "t,p = hypothesis_test(q_ndcg_lsa, q_ndcg_lsa_preprocessed)\n",
        "print(\"nDCG: t = %g  p = %g\" % (t, p))"
      ],
      "metadata": {
        "colab": {
          "base_uri": "https://localhost:8080/"
        },
        "id": "8H-clDZvNo0U",
        "outputId": "bc8b29e9-9db0-4338-9b4c-03a3c08bef2c"
      },
      "execution_count": 31,
      "outputs": [
        {
          "output_type": "stream",
          "name": "stdout",
          "text": [
            "Precision: t = -0.411169  p = 0.681145\n",
            "Recall: t = -0.574549  p = 0.565885\n",
            "Fscore: t = -0.571451  p = 0.56798\n",
            "nDCG: t = -0.447299  p = 0.654876\n"
          ]
        }
      ]
    },
    {
      "cell_type": "markdown",
      "source": [
        "<h1> 3. CLUSTERING <h1>"
      ],
      "metadata": {
        "id": "z0bVnIfue520"
      }
    },
    {
      "cell_type": "code",
      "source": [
        "\n",
        "\n",
        "from sys import version_info\n",
        "import json\n",
        "import time\n",
        "import matplotlib.pyplot as plt\n",
        "import numpy as np\n",
        "import pandas as pd\n",
        "import seaborn as sns\n",
        "import string\n",
        "\n",
        "from sklearn.feature_extraction.text import TfidfVectorizer, CountVectorizer\n",
        "from sklearn.metrics import silhouette_score\n",
        "from sklearn.decomposition import TruncatedSVD, LatentDirichletAllocation\n",
        "from sklearn.cluster import KMeans\n",
        "\n",
        "# For hypothesis testing\n",
        "from scipy.stats import ttest_ind, ttest_ind_from_stats\n",
        "from scipy.special import stdtr\n",
        "\n",
        "\n",
        "\n",
        "import warnings\n",
        "warnings.filterwarnings(\"ignore\") \n",
        " \n",
        "# tf-idf representation of documents\n",
        "\n",
        "docs_vect_km= tfidfDf[columns[:len(docsDf)]].values\n",
        "qry_vect_km= tfidfDf[columns[len(docsDf):]].values\n",
        "\n",
        "clusterDf = docs_vect_km.T\n",
        "ss_metric = []\n",
        "# Getting optimal number of clusters from 2 to 11\n",
        "k_list = np.arange(2, 11)\n",
        "for k in k_list:\n",
        "    # Applying K-means clustering algorithm\n",
        "    kMClusterer = KMeans(n_clusters=k)\n",
        "    prediction = kMClusterer.fit_predict(clusterDf)\n",
        "    # Cluster centers\n",
        "    centers = kMClusterer.cluster_centers_\n",
        "    s_score = silhouette_score(clusterDf, prediction)\n",
        "    ss_metric.append(s_score)\n",
        "    print(\"n_clusters = {}, silhouette score = {})\".format(k, s_score))\n",
        "    \n",
        "plt.plot(list(range(2,11)),ss_metric, marker='o',color= 'b')\n",
        "plt.title(\"Average Silhoutte distance Vs number of clusters\")\n",
        "plt.show()"
      ],
      "metadata": {
        "colab": {
          "base_uri": "https://localhost:8080/",
          "height": 437
        },
        "id": "93D4t7Fwe8dP",
        "outputId": "45b35bdc-9322-4ba7-8421-7017e4672fd3"
      },
      "execution_count": 32,
      "outputs": [
        {
          "output_type": "stream",
          "name": "stdout",
          "text": [
            "n_clusters = 2, silhouette score = 0.010257327017479027)\n",
            "n_clusters = 3, silhouette score = 0.013799726781534802)\n",
            "n_clusters = 4, silhouette score = 0.014305693447753082)\n",
            "n_clusters = 5, silhouette score = 0.016136900610171083)\n",
            "n_clusters = 6, silhouette score = 0.017899351009227835)\n",
            "n_clusters = 7, silhouette score = 0.014806481644540535)\n",
            "n_clusters = 8, silhouette score = 0.017095438152771886)\n",
            "n_clusters = 9, silhouette score = 0.01861060239768222)\n",
            "n_clusters = 10, silhouette score = 0.01943283002667419)\n"
          ]
        },
        {
          "output_type": "display_data",
          "data": {
            "text/plain": [
              "<Figure size 432x288 with 1 Axes>"
            ],
            "image/png": "[encoded data removed]"
          },
          "metadata": {
            "needs_background": "light"
          }
        }
      ]
    },
    {
      "cell_type": "markdown",
      "source": [
        "Optimal number of clusters"
      ],
      "metadata": {
        "id": "ZF-XTnzRAzgV"
      }
    },
    {
      "cell_type": "code",
      "source": [
        "k_best = 6"
      ],
      "metadata": {
        "id": "ALe4j749AzId"
      },
      "execution_count": 33,
      "outputs": []
    },
    {
      "cell_type": "code",
      "source": [
        "kMClusterer = KMeans(n_clusters=k_best, random_state=5)\n",
        "# KMC fitting\n",
        "kMClusterer.fit(docs_vect_km.T)\n",
        "kMClusterer.cluster_centers_.shape"
      ],
      "metadata": {
        "id": "CnPhkTVkvKs6",
        "colab": {
          "base_uri": "https://localhost:8080/"
        },
        "outputId": "da2624bd-cde5-4ca8-92ff-bbc381f38277"
      },
      "execution_count": 34,
      "outputs": [
        {
          "output_type": "execute_result",
          "data": {
            "text/plain": [
              "(6, 5599)"
            ]
          },
          "metadata": {},
          "execution_count": 34
        }
      ]
    },
    {
      "cell_type": "markdown",
      "source": [
        "<h3>Grouping docs to their clusters</h3>"
      ],
      "metadata": {
        "id": "fqMkXU0UGkMS"
      }
    },
    {
      "cell_type": "code",
      "source": [
        "docs_clusters_dict = {}\n",
        "for i in range(1400):\n",
        "    try :\n",
        "        docs_clusters_dict[kMClusterer.labels_[i]] += [i]\n",
        "    except :\n",
        "        docs_clusters_dict[kMClusterer.labels_[i]] = [i]"
      ],
      "metadata": {
        "id": "bjPqDpcJDmYk"
      },
      "execution_count": 35,
      "outputs": []
    },
    {
      "cell_type": "code",
      "source": [
        "# Without Clustering\n",
        "start_one = time.time()\n",
        "# Iterate over all queries and store average retrieval time\n",
        "without_clustering = []\n",
        "for j in range(225):\n",
        "    start_two = time.time()\n",
        "    cosine_sim_without_clustering = []\n",
        "    for i in range(1400):\n",
        "        cosine_sim_without_clustering.append(np.matmul(docs_vect_km[:,i].T, qry_vect_km[:,j]))\n",
        "    cosine_sim_without_clustering = np.array(cosine_sim_without_clustering)\n",
        "    doc_IDs_ordered_without_clustering = (np.argsort(cosine_sim_without_clustering,axis=0)+1)[::-1].T.tolist()\n",
        "    end_two = time.time()\n",
        "    without_clustering.append(end_two - start_two)\n",
        "end_one = time.time()\n",
        "print(\"without clustering, Average Retrieval time : \"+str((end_one-start_one)/225))\n",
        "\n",
        "# With CLustering\n",
        "start_one = time.time()\n",
        "with_clustering = []\n",
        "doc_IDs_ordered_kmeans = []\n",
        "for j in range(225):\n",
        "    start_two = time.time()\n",
        "    cluster = np.argmax(np.matmul(qry_vect_km[:,j].T, kMClusterer.cluster_centers_.T))\n",
        "    cluster_docs = docs_vect_km[:, docs_clusters_dict[cluster]]\n",
        "    cosine_sim_with_clustering = np.matmul(cluster_docs.T,qry_vect_km[:,0])\n",
        "    doc_IDs_ordered_with_clustering = (np.argsort(cosine_sim_with_clustering,axis=0))[::-1].T.tolist()\n",
        "    doc_IDs_ordered_kmeans.append(doc_IDs_ordered_with_clustering)\n",
        "    end_two = time.time()\n",
        "    with_clustering.append(end_two - start_two)\n",
        "end_one = time.time()\n",
        "print(\"clustering method, Retrieval time : \"+str((end_one-start_one)/225))\n",
        "\n",
        "\n",
        "# Plotting\n",
        "plt.figure(figsize = (10,5))\n",
        "plt.title('Clustering with Kmeans')\n",
        "plt.plot(range(225), without_clustering, label = 'Without Clustering', color='r')\n",
        "plt.plot(range(225), with_clustering, label = 'With Clustering', color='b')\n",
        "plt.legend()\n",
        "plt.show()"
      ],
      "metadata": {
        "colab": {
          "base_uri": "https://localhost:8080/",
          "height": 371
        },
        "id": "UAb1ByJ8Dn8L",
        "outputId": "66173f13-24cc-44bc-fe31-8cb2bb808590"
      },
      "execution_count": 36,
      "outputs": [
        {
          "output_type": "stream",
          "name": "stdout",
          "text": [
            "without clustering, Average Retrieval time : 0.012363311979505751\n",
            "clustering method, Retrieval time : 0.006034579806857639\n"
          ]
        },
        {
          "output_type": "display_data",
          "data": {
            "text/plain": [
              "<Figure size 720x360 with 1 Axes>"
            ],
            "image/png": "[encoded data removed]"
          },
          "metadata": {
            "needs_background": "light"
          }
        }
      ]
    },
    {
      "cell_type": "markdown",
      "source": [
        "<h2> Hypothesis Testing </h2>"
      ],
      "metadata": {
        "id": "dE8r5MrvMoRd"
      }
    },
    {
      "cell_type": "code",
      "source": [
        "t,p = hypothesis_test(without_clustering, with_clustering)\n",
        "print(\"t = %g  p = %g\" % (t, p))"
      ],
      "metadata": {
        "colab": {
          "base_uri": "https://localhost:8080/"
        },
        "id": "JzegvkiFMrl1",
        "outputId": "d0d229d0-349a-4ff8-9ef5-c7b3a9321863"
      },
      "execution_count": 37,
      "outputs": [
        {
          "output_type": "stream",
          "name": "stdout",
          "text": [
            "t = 32.9048  p = 2.78211e-121\n"
          ]
        }
      ]
    }
  ]
}